{
 "cells": [
  {
   "cell_type": "code",
   "execution_count": 1,
   "metadata": {},
   "outputs": [],
   "source": [
    "import pandas as pd\n",
    "import numpy as np\n",
    "import statsmodels.api as sm\n",
    "from sklearn.cross_decomposition import PLSRegression\n",
    "from sklearn.linear_model import LinearRegression\n",
    "from sklearn.ensemble import RandomForestRegressor\n",
    "from sklearn.ensemble import GradientBoostingRegressor\n",
    "from sklearn.decomposition import PCA\n",
    "from sklearn.pipeline import make_pipeline\n",
    "from sklearn.preprocessing import StandardScaler\n",
    "from sklearn.linear_model import ElasticNet\n",
    "from sklearn.metrics import mean_squared_error as mse\n",
    "from sklearn.model_selection import GridSearchCV\n",
    "\n",
    "from matplotlib import pyplot as plt\n",
    "\n",
    "from tqdm import tqdm"
   ]
  },
  {
   "cell_type": "code",
   "execution_count": 2,
   "metadata": {},
   "outputs": [],
   "source": [
    "krx = '/data/hun/KRX_marketdata/'"
   ]
  },
  {
   "cell_type": "code",
   "execution_count": 3,
   "metadata": {},
   "outputs": [],
   "source": [
    "tickers = pd.read_csv(krx+'ticker_recent.csv', encoding ='cp949')\n",
    "tickers.columns = ('full_ticker', 'ticker', 'name_full', 'name',\n",
    "              'name_eng', 'listed_data', 'market', 'security_category',\n",
    "              'related_department', 'preferred', 'face_value', 'shares')\n",
    "tickers = tickers.drop(['related_department'], axis=1).dropna().reset_index(drop=True)"
   ]
  },
  {
   "cell_type": "code",
   "execution_count": 3,
   "metadata": {},
   "outputs": [
    {
     "name": "stderr",
     "output_type": "stream",
     "text": [
      "/usr/local/lib/python3.6/dist-packages/IPython/core/interactiveshell.py:3072: DtypeWarning: Columns (1) have mixed types.Specify dtype option on import or set low_memory=False.\n",
      "  interactivity=interactivity, compiler=compiler, result=result)\n"
     ]
    }
   ],
   "source": [
    "factors= pd.read_csv(krx+'factors.csv')\n",
    "factors['ticker'] = factors.ticker.apply(lambda x: '0'*(6-len(str(x)))+str(x))"
   ]
  },
  {
   "cell_type": "code",
   "execution_count": null,
   "metadata": {},
   "outputs": [],
   "source": [
    "prices = pd.read_csv(krx+'prices_final.csv')\n",
    "prices['ticker'] = prices.ticker.apply(lambda x: '0'*(6-len(str(x)))+str(x))"
   ]
  },
  {
   "cell_type": "markdown",
   "metadata": {},
   "source": [
    "interest1 = pd.read_excel(krx+'stat_107302.xls')\n",
    "interest2 = pd.read_excel(krx+'stat_107301.xls')\n",
    "interest = pd.concat([interest1.transpose(),interest2.transpose().drop([\"Unnamed: 0\"])]).reset_index()\n",
    "int_col = ['date','tb3y','tb5y','tb10y','cb3y','cd3m','call','br']\n",
    "interest.columns = int_col\n",
    "interest.drop([0],axis=0, inplace=True)\n",
    "interest[\"date\"] = interest.date.apply(lambda x: f'{x[:4]}/{x[4:6]}')\n",
    "interest.replace('-', np.nan, inplace=True)"
   ]
  },
  {
   "cell_type": "markdown",
   "metadata": {},
   "source": [
    "interest = interest.dropna()"
   ]
  },
  {
   "cell_type": "markdown",
   "metadata": {},
   "source": [
    "interest['term_spread'] = interest['tb3y'].astype('float')- interest.br.astype('float')\n",
    "interest['credit_spread'] = interest['cb3y'].astype('float') - interest.tb3y.astype('float')"
   ]
  },
  {
   "cell_type": "markdown",
   "metadata": {},
   "source": [
    "factors = pd.merge(factors, interest[['date','cd3m','term_spread','credit_spread']], how='left', on='date')"
   ]
  },
  {
   "cell_type": "markdown",
   "metadata": {},
   "source": [
    "factors['trans_turn'] = prices.total_transactions/prices['size']"
   ]
  },
  {
   "cell_type": "markdown",
   "metadata": {},
   "source": [
    "######## factors.to_csv(krx+'factors.csv', index=False)"
   ]
  },
  {
   "cell_type": "code",
   "execution_count": 4,
   "metadata": {},
   "outputs": [],
   "source": [
    "factors =factors.dropna()"
   ]
  },
  {
   "cell_type": "code",
   "execution_count": 5,
   "metadata": {},
   "outputs": [],
   "source": [
    "factors.reset_index(drop = True, inplace = True)"
   ]
  },
  {
   "cell_type": "code",
   "execution_count": 6,
   "metadata": {},
   "outputs": [
    {
     "data": {
      "text/html": [
       "<div>\n",
       "<style scoped>\n",
       "    .dataframe tbody tr th:only-of-type {\n",
       "        vertical-align: middle;\n",
       "    }\n",
       "\n",
       "    .dataframe tbody tr th {\n",
       "        vertical-align: top;\n",
       "    }\n",
       "\n",
       "    .dataframe thead th {\n",
       "        text-align: right;\n",
       "    }\n",
       "</style>\n",
       "<table border=\"1\" class=\"dataframe\">\n",
       "  <thead>\n",
       "    <tr style=\"text-align: right;\">\n",
       "      <th></th>\n",
       "      <th>ret</th>\n",
       "      <th>RM_RF</th>\n",
       "      <th>smb</th>\n",
       "      <th>hml</th>\n",
       "      <th>div_ret</th>\n",
       "      <th>PBR</th>\n",
       "      <th>EPR</th>\n",
       "      <th>BPR</th>\n",
       "      <th>size</th>\n",
       "      <th>share_turn</th>\n",
       "      <th>mom1</th>\n",
       "      <th>mom6</th>\n",
       "      <th>mom12</th>\n",
       "      <th>beta</th>\n",
       "      <th>beta_seq</th>\n",
       "      <th>ido_vol</th>\n",
       "      <th>cd3m</th>\n",
       "      <th>term_spread</th>\n",
       "      <th>credit_spread</th>\n",
       "      <th>trans_turn</th>\n",
       "    </tr>\n",
       "  </thead>\n",
       "  <tbody>\n",
       "    <tr>\n",
       "      <th>count</th>\n",
       "      <td>367098.000000</td>\n",
       "      <td>367098.000000</td>\n",
       "      <td>367098.000000</td>\n",
       "      <td>367098.000000</td>\n",
       "      <td>367098.000000</td>\n",
       "      <td>367098.000000</td>\n",
       "      <td>367098.000000</td>\n",
       "      <td>367098.000000</td>\n",
       "      <td>367098.000000</td>\n",
       "      <td>367098.000000</td>\n",
       "      <td>367098.000000</td>\n",
       "      <td>367098.000000</td>\n",
       "      <td>367098.000000</td>\n",
       "      <td>367098.000000</td>\n",
       "      <td>367098.000000</td>\n",
       "      <td>367098.000000</td>\n",
       "      <td>367098.000000</td>\n",
       "      <td>367098.000000</td>\n",
       "      <td>367098.000000</td>\n",
       "      <td>367098.000000</td>\n",
       "    </tr>\n",
       "    <tr>\n",
       "      <th>mean</th>\n",
       "      <td>0.022826</td>\n",
       "      <td>0.002942</td>\n",
       "      <td>0.029222</td>\n",
       "      <td>0.004118</td>\n",
       "      <td>1.271247</td>\n",
       "      <td>1.644664</td>\n",
       "      <td>0.083455</td>\n",
       "      <td>1.040695</td>\n",
       "      <td>0.500123</td>\n",
       "      <td>0.387793</td>\n",
       "      <td>0.023124</td>\n",
       "      <td>0.023249</td>\n",
       "      <td>0.022955</td>\n",
       "      <td>0.463410</td>\n",
       "      <td>28.214998</td>\n",
       "      <td>0.821128</td>\n",
       "      <td>2.661427</td>\n",
       "      <td>0.531033</td>\n",
       "      <td>0.706400</td>\n",
       "      <td>0.412380</td>\n",
       "    </tr>\n",
       "    <tr>\n",
       "      <th>std</th>\n",
       "      <td>0.892897</td>\n",
       "      <td>0.091250</td>\n",
       "      <td>0.043141</td>\n",
       "      <td>0.052979</td>\n",
       "      <td>1.989090</td>\n",
       "      <td>5.732081</td>\n",
       "      <td>0.656990</td>\n",
       "      <td>1.306708</td>\n",
       "      <td>0.288705</td>\n",
       "      <td>3.868207</td>\n",
       "      <td>0.896392</td>\n",
       "      <td>0.363790</td>\n",
       "      <td>0.256622</td>\n",
       "      <td>5.291533</td>\n",
       "      <td>3523.952771</td>\n",
       "      <td>89.935896</td>\n",
       "      <td>1.371765</td>\n",
       "      <td>0.549941</td>\n",
       "      <td>0.521864</td>\n",
       "      <td>4.920248</td>\n",
       "    </tr>\n",
       "    <tr>\n",
       "      <th>min</th>\n",
       "      <td>-0.985862</td>\n",
       "      <td>-0.887071</td>\n",
       "      <td>-0.046105</td>\n",
       "      <td>-0.479083</td>\n",
       "      <td>0.000000</td>\n",
       "      <td>0.000000</td>\n",
       "      <td>0.000000</td>\n",
       "      <td>0.000000</td>\n",
       "      <td>0.000434</td>\n",
       "      <td>0.000004</td>\n",
       "      <td>-0.985862</td>\n",
       "      <td>-0.459365</td>\n",
       "      <td>-0.406501</td>\n",
       "      <td>-670.942221</td>\n",
       "      <td>0.000000</td>\n",
       "      <td>0.000000</td>\n",
       "      <td>0.630000</td>\n",
       "      <td>-0.340000</td>\n",
       "      <td>0.220000</td>\n",
       "      <td>0.000004</td>\n",
       "    </tr>\n",
       "    <tr>\n",
       "      <th>25%</th>\n",
       "      <td>-0.070175</td>\n",
       "      <td>-0.038905</td>\n",
       "      <td>0.002915</td>\n",
       "      <td>-0.014061</td>\n",
       "      <td>0.000000</td>\n",
       "      <td>0.480000</td>\n",
       "      <td>0.000000</td>\n",
       "      <td>0.333333</td>\n",
       "      <td>0.250000</td>\n",
       "      <td>0.029265</td>\n",
       "      <td>-0.070295</td>\n",
       "      <td>-0.024374</td>\n",
       "      <td>-0.014802</td>\n",
       "      <td>-0.046389</td>\n",
       "      <td>0.050577</td>\n",
       "      <td>0.006902</td>\n",
       "      <td>1.580000</td>\n",
       "      <td>0.140000</td>\n",
       "      <td>0.430000</td>\n",
       "      <td>0.029537</td>\n",
       "    </tr>\n",
       "    <tr>\n",
       "      <th>50%</th>\n",
       "      <td>-0.004076</td>\n",
       "      <td>0.007577</td>\n",
       "      <td>0.019467</td>\n",
       "      <td>0.008086</td>\n",
       "      <td>0.410000</td>\n",
       "      <td>0.940000</td>\n",
       "      <td>0.042863</td>\n",
       "      <td>0.781250</td>\n",
       "      <td>0.500000</td>\n",
       "      <td>0.086005</td>\n",
       "      <td>-0.003953</td>\n",
       "      <td>0.004187</td>\n",
       "      <td>0.006765</td>\n",
       "      <td>0.357565</td>\n",
       "      <td>0.310596</td>\n",
       "      <td>0.014389</td>\n",
       "      <td>2.630000</td>\n",
       "      <td>0.410000</td>\n",
       "      <td>0.530000</td>\n",
       "      <td>0.087124</td>\n",
       "    </tr>\n",
       "    <tr>\n",
       "      <th>75%</th>\n",
       "      <td>0.071103</td>\n",
       "      <td>0.051134</td>\n",
       "      <td>0.042318</td>\n",
       "      <td>0.030847</td>\n",
       "      <td>1.920000</td>\n",
       "      <td>1.770000</td>\n",
       "      <td>0.104058</td>\n",
       "      <td>1.428571</td>\n",
       "      <td>0.750136</td>\n",
       "      <td>0.242060</td>\n",
       "      <td>0.071339</td>\n",
       "      <td>0.041642</td>\n",
       "      <td>0.036077</td>\n",
       "      <td>0.941776</td>\n",
       "      <td>1.221496</td>\n",
       "      <td>0.031341</td>\n",
       "      <td>3.550000</td>\n",
       "      <td>0.740000</td>\n",
       "      <td>0.830000</td>\n",
       "      <td>0.247815</td>\n",
       "    </tr>\n",
       "    <tr>\n",
       "      <th>max</th>\n",
       "      <td>437.666667</td>\n",
       "      <td>0.184805</td>\n",
       "      <td>0.341170</td>\n",
       "      <td>0.167935</td>\n",
       "      <td>57.920000</td>\n",
       "      <td>1044.000000</td>\n",
       "      <td>100.000000</td>\n",
       "      <td>100.000000</td>\n",
       "      <td>1.000000</td>\n",
       "      <td>855.512794</td>\n",
       "      <td>437.666667</td>\n",
       "      <td>72.884900</td>\n",
       "      <td>36.465624</td>\n",
       "      <td>974.667766</td>\n",
       "      <td>949977.254124</td>\n",
       "      <td>16318.994101</td>\n",
       "      <td>6.030000</td>\n",
       "      <td>2.470000</td>\n",
       "      <td>4.380000</td>\n",
       "      <td>1777.534815</td>\n",
       "    </tr>\n",
       "  </tbody>\n",
       "</table>\n",
       "</div>"
      ],
      "text/plain": [
       "                 ret          RM_RF            smb            hml  \\\n",
       "count  367098.000000  367098.000000  367098.000000  367098.000000   \n",
       "mean        0.022826       0.002942       0.029222       0.004118   \n",
       "std         0.892897       0.091250       0.043141       0.052979   \n",
       "min        -0.985862      -0.887071      -0.046105      -0.479083   \n",
       "25%        -0.070175      -0.038905       0.002915      -0.014061   \n",
       "50%        -0.004076       0.007577       0.019467       0.008086   \n",
       "75%         0.071103       0.051134       0.042318       0.030847   \n",
       "max       437.666667       0.184805       0.341170       0.167935   \n",
       "\n",
       "             div_ret            PBR            EPR            BPR  \\\n",
       "count  367098.000000  367098.000000  367098.000000  367098.000000   \n",
       "mean        1.271247       1.644664       0.083455       1.040695   \n",
       "std         1.989090       5.732081       0.656990       1.306708   \n",
       "min         0.000000       0.000000       0.000000       0.000000   \n",
       "25%         0.000000       0.480000       0.000000       0.333333   \n",
       "50%         0.410000       0.940000       0.042863       0.781250   \n",
       "75%         1.920000       1.770000       0.104058       1.428571   \n",
       "max        57.920000    1044.000000     100.000000     100.000000   \n",
       "\n",
       "                size     share_turn           mom1           mom6  \\\n",
       "count  367098.000000  367098.000000  367098.000000  367098.000000   \n",
       "mean        0.500123       0.387793       0.023124       0.023249   \n",
       "std         0.288705       3.868207       0.896392       0.363790   \n",
       "min         0.000434       0.000004      -0.985862      -0.459365   \n",
       "25%         0.250000       0.029265      -0.070295      -0.024374   \n",
       "50%         0.500000       0.086005      -0.003953       0.004187   \n",
       "75%         0.750136       0.242060       0.071339       0.041642   \n",
       "max         1.000000     855.512794     437.666667      72.884900   \n",
       "\n",
       "               mom12           beta       beta_seq        ido_vol  \\\n",
       "count  367098.000000  367098.000000  367098.000000  367098.000000   \n",
       "mean        0.022955       0.463410      28.214998       0.821128   \n",
       "std         0.256622       5.291533    3523.952771      89.935896   \n",
       "min        -0.406501    -670.942221       0.000000       0.000000   \n",
       "25%        -0.014802      -0.046389       0.050577       0.006902   \n",
       "50%         0.006765       0.357565       0.310596       0.014389   \n",
       "75%         0.036077       0.941776       1.221496       0.031341   \n",
       "max        36.465624     974.667766  949977.254124   16318.994101   \n",
       "\n",
       "                cd3m    term_spread  credit_spread     trans_turn  \n",
       "count  367098.000000  367098.000000  367098.000000  367098.000000  \n",
       "mean        2.661427       0.531033       0.706400       0.412380  \n",
       "std         1.371765       0.549941       0.521864       4.920248  \n",
       "min         0.630000      -0.340000       0.220000       0.000004  \n",
       "25%         1.580000       0.140000       0.430000       0.029537  \n",
       "50%         2.630000       0.410000       0.530000       0.087124  \n",
       "75%         3.550000       0.740000       0.830000       0.247815  \n",
       "max         6.030000       2.470000       4.380000    1777.534815  "
      ]
     },
     "execution_count": 6,
     "metadata": {},
     "output_type": "execute_result"
    }
   ],
   "source": [
    "factors.describe()"
   ]
  },
  {
   "cell_type": "markdown",
   "metadata": {},
   "source": [
    "R_oos"
   ]
  },
  {
   "cell_type": "code",
   "execution_count": 7,
   "metadata": {},
   "outputs": [],
   "source": [
    "def ros(pred, real):\n",
    "    mse_m = ((pred.reshape(-1) - real)**2).mean()\n",
    "    mse_bm = (real**2).mean()\n",
    "    return 1 - mse_m / mse_bm\n"
   ]
  },
  {
   "cell_type": "markdown",
   "metadata": {},
   "source": [
    "### Preprocessing\n"
   ]
  },
  {
   "cell_type": "code",
   "execution_count": 8,
   "metadata": {},
   "outputs": [],
   "source": [
    "def xvar(data):\n",
    "    return data.drop(['date','ticker','name'], axis=1).astype('float')"
   ]
  },
  {
   "cell_type": "code",
   "execution_count": 9,
   "metadata": {},
   "outputs": [],
   "source": [
    "def xy(data):\n",
    "    return data.drop(['ret'], axis=1), data.ret"
   ]
  },
  {
   "cell_type": "code",
   "execution_count": 10,
   "metadata": {},
   "outputs": [],
   "source": [
    "dates = factors.date.unique()[::-1]"
   ]
  },
  {
   "cell_type": "markdown",
   "metadata": {},
   "source": [
    "# Pooling"
   ]
  },
  {
   "cell_type": "code",
   "execution_count": 11,
   "metadata": {},
   "outputs": [],
   "source": [
    "#preprocessing\n",
    "\n",
    "length = len(dates)\n",
    "ind_train = int(length*0.7)+2\n",
    "# pool_train_pre = factors[factors.date.apply(lambda x: x in dates[0:ind_train])]\n",
    "# pool_test = factors[factors.date.apply(lambda x: x in dates[ind_train:])]"
   ]
  },
  {
   "cell_type": "code",
   "execution_count": 12,
   "metadata": {},
   "outputs": [],
   "source": [
    "ind_tv = int(length*0.4)"
   ]
  },
  {
   "cell_type": "code",
   "execution_count": 13,
   "metadata": {},
   "outputs": [
    {
     "data": {
      "text/plain": [
       "72"
      ]
     },
     "execution_count": 13,
     "metadata": {},
     "output_type": "execute_result"
    }
   ],
   "source": [
    "ind_train - ind_tv"
   ]
  },
  {
   "cell_type": "code",
   "execution_count": 14,
   "metadata": {},
   "outputs": [
    {
     "data": {
      "text/plain": [
       "140"
      ]
     },
     "execution_count": 14,
     "metadata": {},
     "output_type": "execute_result"
    }
   ],
   "source": [
    "length - ind_tv"
   ]
  },
  {
   "cell_type": "code",
   "execution_count": 15,
   "metadata": {},
   "outputs": [
    {
     "data": {
      "text/plain": [
       "('2010/01', '2016/01')"
      ]
     },
     "execution_count": 15,
     "metadata": {},
     "output_type": "execute_result"
    }
   ],
   "source": [
    "dates[ind_tv], dates[ind_train]"
   ]
  },
  {
   "cell_type": "code",
   "execution_count": 16,
   "metadata": {},
   "outputs": [
    {
     "name": "stderr",
     "output_type": "stream",
     "text": [
      "100%|██████████| 12/12 [00:53<00:00,  4.49s/it]\n"
     ]
    }
   ],
   "source": [
    "## Time series split\n",
    "\n",
    "pool_train = []\n",
    "pool_val = []\n",
    "cnt = ind_tv\n",
    "start= 0\n",
    "for i in tqdm(range(12)):\n",
    "    train_ind = dates[start:cnt]\n",
    "    val_ind = dates[cnt:min(cnt+12, length)]\n",
    "    \n",
    "    pool_train.append(xvar(factors[factors.date.apply(lambda x: x in train_ind)]))\n",
    "    pool_val.append(xvar(factors[factors.date.apply(lambda x: x in val_ind)]))\n",
    "    cnt += 12\n",
    "    start += 12"
   ]
  },
  {
   "cell_type": "code",
   "execution_count": 17,
   "metadata": {},
   "outputs": [],
   "source": [
    "def cv_pcr(exx, exy, evx, evy):\n",
    "    tem_pcr = 0\n",
    "    tem_pls = 0\n",
    "    max_pcr = 0\n",
    "    max_pls = 0\n",
    "    pred_pcr = []\n",
    "    pred_pls =[]\n",
    "    mse_pcr = 0\n",
    "    mse_pls = 0\n",
    "    for i in  [i for i in range(1,16)]:\n",
    "        pls = PLSRegression(n_components = i).fit(exx, exy)\n",
    "        pcr = make_pipeline(StandardScaler(), PCA(n_components=i), LinearRegression()).fit(exx, exy)\n",
    "        tem1, tem2 = pcr.score(evx, evy), pls.score(evx, evy)\n",
    "        if i==1:\n",
    "            tem_pcr, tem_pls = tem1, tem2\n",
    "            max_pcr, max_pls = 1, 1\n",
    "            pred_pcr, pred_pls = pcr.predict(evx), pls.predict(evx)\n",
    "            mse_pcr, mse_pls = mse(exy, pcr.predict(exx)), mse(exy, pls.predict(exx))\n",
    "        else:\n",
    "            if tem_pcr < tem1:\n",
    "                tem_pcr, max_pcr = tem1, i\n",
    "                mse_pcr = mse(exy, pcr.predict(exx))\n",
    "                pred_pcr = pcr.predict(evx)\n",
    "            if tem_pls < tem2:\n",
    "                tem_pls, max_pls = tem2, i\n",
    "                mse_pls = mse(exy, pls.predict(exx))\n",
    "                pred_pls = pls.predict(evx)\n",
    "    \n",
    "    return tem_pcr, max_pcr, mse_pcr, tem_pls, max_pls, mse_pls, pred_pcr, pred_pls\n"
   ]
  },
  {
   "cell_type": "markdown",
   "metadata": {},
   "source": [
    "### 실패작"
   ]
  },
  {
   "cell_type": "code",
   "execution_count": 27,
   "metadata": {},
   "outputs": [
    {
     "name": "stderr",
     "output_type": "stream",
     "text": [
      "\r",
      "  0%|          | 0/5 [00:00<?, ?it/s]"
     ]
    },
    {
     "name": "stdout",
     "output_type": "stream",
     "text": [
      "pcr finished 0\n",
      "comp finished 0\n"
     ]
    },
    {
     "name": "stderr",
     "output_type": "stream",
     "text": [
      "\r",
      " 20%|██        | 1/5 [00:17<01:10, 17.59s/it]"
     ]
    },
    {
     "name": "stdout",
     "output_type": "stream",
     "text": [
      "pcr finished 1\n",
      "comp finished 1\n"
     ]
    },
    {
     "name": "stderr",
     "output_type": "stream",
     "text": [
      "\r",
      " 40%|████      | 2/5 [06:05<05:50, 116.78s/it]"
     ]
    },
    {
     "name": "stdout",
     "output_type": "stream",
     "text": [
      "pcr finished 2\n",
      "comp finished 2\n"
     ]
    },
    {
     "name": "stderr",
     "output_type": "stream",
     "text": [
      "\r",
      " 60%|██████    | 3/5 [12:54<06:48, 204.49s/it]"
     ]
    },
    {
     "name": "stdout",
     "output_type": "stream",
     "text": [
      "pcr finished 3\n",
      "comp finished 3\n"
     ]
    },
    {
     "name": "stderr",
     "output_type": "stream",
     "text": [
      "\r",
      " 80%|████████  | 4/5 [20:50<04:45, 285.95s/it]"
     ]
    },
    {
     "name": "stdout",
     "output_type": "stream",
     "text": [
      "pcr finished 4\n",
      "comp finished 4\n"
     ]
    },
    {
     "name": "stderr",
     "output_type": "stream",
     "text": [
      "100%|██████████| 5/5 [29:51<00:00, 358.27s/it]\n"
     ]
    }
   ],
   "source": [
    "### 이건 실패한 모델\n",
    "results = pd.DataFrame(columns = ['model','period','r_squared','train_loss_mse', 'complexity'])\n",
    "results.to_csv('ML_train_res2.cv', index = False)\n",
    "mod_name = ['lin','en','pls','pcr','rf','gbr']\n",
    "\n",
    "\n",
    "for period in tqdm(range(5)):\n",
    "    ex, ev= pool_train[period],  pool_val[period]\n",
    "    exx, exy = xy(ex)\n",
    "    evx, evy = xy(ev)\n",
    "    \n",
    "#     lin = LinearRegression().fit(exx, exy)\n",
    "    en = ElasticNet(random_state=0).fit(exx, exy)\n",
    "    pcr_r, pcr_com, mse_pcr, pls_r, pls_com, mse_pls, pred_pcr, pred_pls = cv_pcr(exx, exy, evx, evy)\n",
    "    print(f'pcr finished {period}')\n",
    "    rf = RandomForestRegressor(random_state=0).fit(exx, exy)\n",
    "    gbr = GradientBoostingRegressor(random_state=0).fit(exx, exy)\n",
    "    print(f'comp finished {period}')\n",
    "    \n",
    "    r_squared = [lin.score(evx, evy), en.score(evx, evy), pls_r, pcr_r, \\\n",
    "                 rf.score(evx, evy), gbr.score(evx, evy)]\n",
    "    mse_loss = [mse(exy, lin.predict(exx)), mse(exy, en.predict(exx)), mse_pls, mse_pcr, \\\n",
    "                mse(exy, rf.predict(exx)), mse(exy, gbr.predict(exx))]\n",
    "    \n",
    "    mean_depth = np.mean([estimator.tree_.max_depth for estimator in rf.estimators_])\n",
    "    mean_features = np.mean([estimator.max_features_ for estimator in gbr.estimators_.reshape(-1)])\n",
    "    \n",
    "    complexity = [0, (en.coef_ != 0).sum(), pcr_com, pls_com, mean_depth, mean_features]\n",
    "    \n",
    "    res_temp = pd.DataFrame({\"model\": mod_name, \"period\" : [period]*len(mod_name), \"r_squared\" : r_squared,\n",
    "                            \"train_loss_mse\": mse_loss, \"complexity\": complexity})\n",
    "    \n",
    "    res_temp.to_csv('NN_train_res.cv', index = False, header = False, mode ='a')"
   ]
  },
  {
   "cell_type": "code",
   "execution_count": 33,
   "metadata": {},
   "outputs": [],
   "source": [
    "# results.to_csv('ML_train_res.csv', index = False)"
   ]
  },
  {
   "cell_type": "code",
   "execution_count": 51,
   "metadata": {},
   "outputs": [
    {
     "data": {
      "text/plain": [
       "[0.7025880538489462,\n",
       " 1.3590887252942987,\n",
       " 1.2397783563100855,\n",
       " 0.8797793362611417,\n",
       " 0.09520281940207949,\n",
       " 0.029753838562563764]"
      ]
     },
     "execution_count": 51,
     "metadata": {},
     "output_type": "execute_result"
    }
   ],
   "source": [
    "mse_loss"
   ]
  },
  {
   "cell_type": "code",
   "execution_count": 83,
   "metadata": {},
   "outputs": [
    {
     "data": {
      "text/html": [
       "<div>\n",
       "<style scoped>\n",
       "    .dataframe tbody tr th:only-of-type {\n",
       "        vertical-align: middle;\n",
       "    }\n",
       "\n",
       "    .dataframe tbody tr th {\n",
       "        vertical-align: top;\n",
       "    }\n",
       "\n",
       "    .dataframe thead th {\n",
       "        text-align: right;\n",
       "    }\n",
       "</style>\n",
       "<table border=\"1\" class=\"dataframe\">\n",
       "  <thead>\n",
       "    <tr style=\"text-align: right;\">\n",
       "      <th></th>\n",
       "      <th>model</th>\n",
       "      <th>period</th>\n",
       "      <th>r_squared</th>\n",
       "      <th>train_loss</th>\n",
       "      <th>complexity</th>\n",
       "      <th>train_loss_mse</th>\n",
       "    </tr>\n",
       "  </thead>\n",
       "  <tbody>\n",
       "    <tr>\n",
       "      <th>0</th>\n",
       "      <td>lin</td>\n",
       "      <td>0</td>\n",
       "      <td>-0.231385</td>\n",
       "      <td>NaN</td>\n",
       "      <td>0.00</td>\n",
       "      <td>&lt;function mean_squared_error at 0x7f1cbc4d6950&gt;</td>\n",
       "    </tr>\n",
       "    <tr>\n",
       "      <th>1</th>\n",
       "      <td>en</td>\n",
       "      <td>0</td>\n",
       "      <td>0.032811</td>\n",
       "      <td>NaN</td>\n",
       "      <td>2.00</td>\n",
       "      <td>&lt;function mean_squared_error at 0x7f1cbc4d6950&gt;</td>\n",
       "    </tr>\n",
       "    <tr>\n",
       "      <th>2</th>\n",
       "      <td>pls</td>\n",
       "      <td>0</td>\n",
       "      <td>-0.074628</td>\n",
       "      <td>NaN</td>\n",
       "      <td>1.00</td>\n",
       "      <td>&lt;function mean_squared_error at 0x7f1cbc4d6950&gt;</td>\n",
       "    </tr>\n",
       "    <tr>\n",
       "      <th>3</th>\n",
       "      <td>pcr</td>\n",
       "      <td>0</td>\n",
       "      <td>0.112349</td>\n",
       "      <td>NaN</td>\n",
       "      <td>1.00</td>\n",
       "      <td>&lt;function mean_squared_error at 0x7f1cbc4d6950&gt;</td>\n",
       "    </tr>\n",
       "    <tr>\n",
       "      <th>4</th>\n",
       "      <td>rf</td>\n",
       "      <td>0</td>\n",
       "      <td>0.893907</td>\n",
       "      <td>NaN</td>\n",
       "      <td>51.05</td>\n",
       "      <td>&lt;function mean_squared_error at 0x7f1cbc4d6950&gt;</td>\n",
       "    </tr>\n",
       "    <tr>\n",
       "      <th>5</th>\n",
       "      <td>gbr</td>\n",
       "      <td>0</td>\n",
       "      <td>0.680366</td>\n",
       "      <td>NaN</td>\n",
       "      <td>19.00</td>\n",
       "      <td>&lt;function mean_squared_error at 0x7f1cbc4d6950&gt;</td>\n",
       "    </tr>\n",
       "    <tr>\n",
       "      <th>0</th>\n",
       "      <td>lin</td>\n",
       "      <td>1</td>\n",
       "      <td>-2.209271</td>\n",
       "      <td>NaN</td>\n",
       "      <td>0.00</td>\n",
       "      <td>&lt;function mean_squared_error at 0x7f1cbc4d6950&gt;</td>\n",
       "    </tr>\n",
       "    <tr>\n",
       "      <th>1</th>\n",
       "      <td>en</td>\n",
       "      <td>1</td>\n",
       "      <td>0.001071</td>\n",
       "      <td>NaN</td>\n",
       "      <td>2.00</td>\n",
       "      <td>&lt;function mean_squared_error at 0x7f1cbc4d6950&gt;</td>\n",
       "    </tr>\n",
       "    <tr>\n",
       "      <th>2</th>\n",
       "      <td>pls</td>\n",
       "      <td>1</td>\n",
       "      <td>-1.363300</td>\n",
       "      <td>NaN</td>\n",
       "      <td>1.00</td>\n",
       "      <td>&lt;function mean_squared_error at 0x7f1cbc4d6950&gt;</td>\n",
       "    </tr>\n",
       "    <tr>\n",
       "      <th>3</th>\n",
       "      <td>pcr</td>\n",
       "      <td>1</td>\n",
       "      <td>0.010919</td>\n",
       "      <td>NaN</td>\n",
       "      <td>1.00</td>\n",
       "      <td>&lt;function mean_squared_error at 0x7f1cbc4d6950&gt;</td>\n",
       "    </tr>\n",
       "    <tr>\n",
       "      <th>4</th>\n",
       "      <td>rf</td>\n",
       "      <td>1</td>\n",
       "      <td>0.659370</td>\n",
       "      <td>NaN</td>\n",
       "      <td>53.46</td>\n",
       "      <td>&lt;function mean_squared_error at 0x7f1cbc4d6950&gt;</td>\n",
       "    </tr>\n",
       "    <tr>\n",
       "      <th>5</th>\n",
       "      <td>gbr</td>\n",
       "      <td>1</td>\n",
       "      <td>0.588060</td>\n",
       "      <td>NaN</td>\n",
       "      <td>19.00</td>\n",
       "      <td>&lt;function mean_squared_error at 0x7f1cbc4d6950&gt;</td>\n",
       "    </tr>\n",
       "    <tr>\n",
       "      <th>0</th>\n",
       "      <td>lin</td>\n",
       "      <td>2</td>\n",
       "      <td>0.384830</td>\n",
       "      <td>NaN</td>\n",
       "      <td>0.00</td>\n",
       "      <td>&lt;function mean_squared_error at 0x7f1cbc4d6950&gt;</td>\n",
       "    </tr>\n",
       "    <tr>\n",
       "      <th>1</th>\n",
       "      <td>en</td>\n",
       "      <td>2</td>\n",
       "      <td>0.009081</td>\n",
       "      <td>NaN</td>\n",
       "      <td>2.00</td>\n",
       "      <td>&lt;function mean_squared_error at 0x7f1cbc4d6950&gt;</td>\n",
       "    </tr>\n",
       "    <tr>\n",
       "      <th>2</th>\n",
       "      <td>pls</td>\n",
       "      <td>2</td>\n",
       "      <td>0.409079</td>\n",
       "      <td>NaN</td>\n",
       "      <td>14.00</td>\n",
       "      <td>&lt;function mean_squared_error at 0x7f1cbc4d6950&gt;</td>\n",
       "    </tr>\n",
       "    <tr>\n",
       "      <th>3</th>\n",
       "      <td>pcr</td>\n",
       "      <td>2</td>\n",
       "      <td>0.300174</td>\n",
       "      <td>NaN</td>\n",
       "      <td>6.00</td>\n",
       "      <td>&lt;function mean_squared_error at 0x7f1cbc4d6950&gt;</td>\n",
       "    </tr>\n",
       "    <tr>\n",
       "      <th>4</th>\n",
       "      <td>rf</td>\n",
       "      <td>2</td>\n",
       "      <td>0.890628</td>\n",
       "      <td>NaN</td>\n",
       "      <td>53.06</td>\n",
       "      <td>&lt;function mean_squared_error at 0x7f1cbc4d6950&gt;</td>\n",
       "    </tr>\n",
       "    <tr>\n",
       "      <th>5</th>\n",
       "      <td>gbr</td>\n",
       "      <td>2</td>\n",
       "      <td>0.723835</td>\n",
       "      <td>NaN</td>\n",
       "      <td>19.00</td>\n",
       "      <td>&lt;function mean_squared_error at 0x7f1cbc4d6950&gt;</td>\n",
       "    </tr>\n",
       "    <tr>\n",
       "      <th>0</th>\n",
       "      <td>lin</td>\n",
       "      <td>3</td>\n",
       "      <td>-1.092916</td>\n",
       "      <td>NaN</td>\n",
       "      <td>0.00</td>\n",
       "      <td>&lt;function mean_squared_error at 0x7f1cbc4d6950&gt;</td>\n",
       "    </tr>\n",
       "    <tr>\n",
       "      <th>1</th>\n",
       "      <td>en</td>\n",
       "      <td>3</td>\n",
       "      <td>0.001188</td>\n",
       "      <td>NaN</td>\n",
       "      <td>2.00</td>\n",
       "      <td>&lt;function mean_squared_error at 0x7f1cbc4d6950&gt;</td>\n",
       "    </tr>\n",
       "    <tr>\n",
       "      <th>2</th>\n",
       "      <td>pls</td>\n",
       "      <td>3</td>\n",
       "      <td>-0.612850</td>\n",
       "      <td>NaN</td>\n",
       "      <td>1.00</td>\n",
       "      <td>&lt;function mean_squared_error at 0x7f1cbc4d6950&gt;</td>\n",
       "    </tr>\n",
       "    <tr>\n",
       "      <th>3</th>\n",
       "      <td>pcr</td>\n",
       "      <td>3</td>\n",
       "      <td>0.051232</td>\n",
       "      <td>NaN</td>\n",
       "      <td>1.00</td>\n",
       "      <td>&lt;function mean_squared_error at 0x7f1cbc4d6950&gt;</td>\n",
       "    </tr>\n",
       "    <tr>\n",
       "      <th>4</th>\n",
       "      <td>rf</td>\n",
       "      <td>3</td>\n",
       "      <td>0.790085</td>\n",
       "      <td>NaN</td>\n",
       "      <td>55.60</td>\n",
       "      <td>&lt;function mean_squared_error at 0x7f1cbc4d6950&gt;</td>\n",
       "    </tr>\n",
       "    <tr>\n",
       "      <th>5</th>\n",
       "      <td>gbr</td>\n",
       "      <td>3</td>\n",
       "      <td>0.672104</td>\n",
       "      <td>NaN</td>\n",
       "      <td>19.00</td>\n",
       "      <td>&lt;function mean_squared_error at 0x7f1cbc4d6950&gt;</td>\n",
       "    </tr>\n",
       "    <tr>\n",
       "      <th>0</th>\n",
       "      <td>lin</td>\n",
       "      <td>4</td>\n",
       "      <td>-1.590308</td>\n",
       "      <td>NaN</td>\n",
       "      <td>0.00</td>\n",
       "      <td>&lt;function mean_squared_error at 0x7f1cbc4d6950&gt;</td>\n",
       "    </tr>\n",
       "    <tr>\n",
       "      <th>1</th>\n",
       "      <td>en</td>\n",
       "      <td>4</td>\n",
       "      <td>-0.003820</td>\n",
       "      <td>NaN</td>\n",
       "      <td>2.00</td>\n",
       "      <td>&lt;function mean_squared_error at 0x7f1cbc4d6950&gt;</td>\n",
       "    </tr>\n",
       "    <tr>\n",
       "      <th>2</th>\n",
       "      <td>pls</td>\n",
       "      <td>4</td>\n",
       "      <td>-0.823099</td>\n",
       "      <td>NaN</td>\n",
       "      <td>1.00</td>\n",
       "      <td>&lt;function mean_squared_error at 0x7f1cbc4d6950&gt;</td>\n",
       "    </tr>\n",
       "    <tr>\n",
       "      <th>3</th>\n",
       "      <td>pcr</td>\n",
       "      <td>4</td>\n",
       "      <td>0.019945</td>\n",
       "      <td>NaN</td>\n",
       "      <td>1.00</td>\n",
       "      <td>&lt;function mean_squared_error at 0x7f1cbc4d6950&gt;</td>\n",
       "    </tr>\n",
       "    <tr>\n",
       "      <th>4</th>\n",
       "      <td>rf</td>\n",
       "      <td>4</td>\n",
       "      <td>0.779243</td>\n",
       "      <td>NaN</td>\n",
       "      <td>56.01</td>\n",
       "      <td>&lt;function mean_squared_error at 0x7f1cbc4d6950&gt;</td>\n",
       "    </tr>\n",
       "    <tr>\n",
       "      <th>5</th>\n",
       "      <td>gbr</td>\n",
       "      <td>4</td>\n",
       "      <td>0.403608</td>\n",
       "      <td>NaN</td>\n",
       "      <td>19.00</td>\n",
       "      <td>&lt;function mean_squared_error at 0x7f1cbc4d6950&gt;</td>\n",
       "    </tr>\n",
       "  </tbody>\n",
       "</table>\n",
       "</div>"
      ],
      "text/plain": [
       "  model period  r_squared train_loss  complexity  \\\n",
       "0   lin      0  -0.231385        NaN        0.00   \n",
       "1    en      0   0.032811        NaN        2.00   \n",
       "2   pls      0  -0.074628        NaN        1.00   \n",
       "3   pcr      0   0.112349        NaN        1.00   \n",
       "4    rf      0   0.893907        NaN       51.05   \n",
       "5   gbr      0   0.680366        NaN       19.00   \n",
       "0   lin      1  -2.209271        NaN        0.00   \n",
       "1    en      1   0.001071        NaN        2.00   \n",
       "2   pls      1  -1.363300        NaN        1.00   \n",
       "3   pcr      1   0.010919        NaN        1.00   \n",
       "4    rf      1   0.659370        NaN       53.46   \n",
       "5   gbr      1   0.588060        NaN       19.00   \n",
       "0   lin      2   0.384830        NaN        0.00   \n",
       "1    en      2   0.009081        NaN        2.00   \n",
       "2   pls      2   0.409079        NaN       14.00   \n",
       "3   pcr      2   0.300174        NaN        6.00   \n",
       "4    rf      2   0.890628        NaN       53.06   \n",
       "5   gbr      2   0.723835        NaN       19.00   \n",
       "0   lin      3  -1.092916        NaN        0.00   \n",
       "1    en      3   0.001188        NaN        2.00   \n",
       "2   pls      3  -0.612850        NaN        1.00   \n",
       "3   pcr      3   0.051232        NaN        1.00   \n",
       "4    rf      3   0.790085        NaN       55.60   \n",
       "5   gbr      3   0.672104        NaN       19.00   \n",
       "0   lin      4  -1.590308        NaN        0.00   \n",
       "1    en      4  -0.003820        NaN        2.00   \n",
       "2   pls      4  -0.823099        NaN        1.00   \n",
       "3   pcr      4   0.019945        NaN        1.00   \n",
       "4    rf      4   0.779243        NaN       56.01   \n",
       "5   gbr      4   0.403608        NaN       19.00   \n",
       "\n",
       "                                    train_loss_mse  \n",
       "0  <function mean_squared_error at 0x7f1cbc4d6950>  \n",
       "1  <function mean_squared_error at 0x7f1cbc4d6950>  \n",
       "2  <function mean_squared_error at 0x7f1cbc4d6950>  \n",
       "3  <function mean_squared_error at 0x7f1cbc4d6950>  \n",
       "4  <function mean_squared_error at 0x7f1cbc4d6950>  \n",
       "5  <function mean_squared_error at 0x7f1cbc4d6950>  \n",
       "0  <function mean_squared_error at 0x7f1cbc4d6950>  \n",
       "1  <function mean_squared_error at 0x7f1cbc4d6950>  \n",
       "2  <function mean_squared_error at 0x7f1cbc4d6950>  \n",
       "3  <function mean_squared_error at 0x7f1cbc4d6950>  \n",
       "4  <function mean_squared_error at 0x7f1cbc4d6950>  \n",
       "5  <function mean_squared_error at 0x7f1cbc4d6950>  \n",
       "0  <function mean_squared_error at 0x7f1cbc4d6950>  \n",
       "1  <function mean_squared_error at 0x7f1cbc4d6950>  \n",
       "2  <function mean_squared_error at 0x7f1cbc4d6950>  \n",
       "3  <function mean_squared_error at 0x7f1cbc4d6950>  \n",
       "4  <function mean_squared_error at 0x7f1cbc4d6950>  \n",
       "5  <function mean_squared_error at 0x7f1cbc4d6950>  \n",
       "0  <function mean_squared_error at 0x7f1cbc4d6950>  \n",
       "1  <function mean_squared_error at 0x7f1cbc4d6950>  \n",
       "2  <function mean_squared_error at 0x7f1cbc4d6950>  \n",
       "3  <function mean_squared_error at 0x7f1cbc4d6950>  \n",
       "4  <function mean_squared_error at 0x7f1cbc4d6950>  \n",
       "5  <function mean_squared_error at 0x7f1cbc4d6950>  \n",
       "0  <function mean_squared_error at 0x7f1cbc4d6950>  \n",
       "1  <function mean_squared_error at 0x7f1cbc4d6950>  \n",
       "2  <function mean_squared_error at 0x7f1cbc4d6950>  \n",
       "3  <function mean_squared_error at 0x7f1cbc4d6950>  \n",
       "4  <function mean_squared_error at 0x7f1cbc4d6950>  \n",
       "5  <function mean_squared_error at 0x7f1cbc4d6950>  "
      ]
     },
     "execution_count": 83,
     "metadata": {},
     "output_type": "execute_result"
    }
   ],
   "source": [
    "results"
   ]
  },
  {
   "cell_type": "markdown",
   "metadata": {},
   "source": [
    "# Test"
   ]
  },
  {
   "cell_type": "code",
   "execution_count": 48,
   "metadata": {},
   "outputs": [
    {
     "data": {
      "text/plain": [
       "[2, 0, 2, 2, 0, 2]"
      ]
     },
     "execution_count": 48,
     "metadata": {},
     "output_type": "execute_result"
    }
   ],
   "source": [
    "model_pick = []\n",
    "for i in mod_name:\n",
    "    sub = results[results.model == i]\n",
    "    model_pick.append(sub[sub.r_squared == sub.r_squared.max()].period.values[0])\n",
    "model_pick"
   ]
  },
  {
   "cell_type": "code",
   "execution_count": 86,
   "metadata": {},
   "outputs": [],
   "source": [
    "xt, yt = xy(xvar(pool_test))\n",
    "xx, yy = xy(xvar(pool_train_pre))"
   ]
  },
  {
   "cell_type": "code",
   "execution_count": 55,
   "metadata": {},
   "outputs": [
    {
     "name": "stdout",
     "output_type": "stream",
     "text": [
      "rf started\n",
      "CPU times: user 17min 11s, sys: 12min 46s, total: 29min 58s\n",
      "Wall time: 11min 28s\n"
     ]
    },
    {
     "data": {
      "text/html": [
       "<div>\n",
       "<style scoped>\n",
       "    .dataframe tbody tr th:only-of-type {\n",
       "        vertical-align: middle;\n",
       "    }\n",
       "\n",
       "    .dataframe tbody tr th {\n",
       "        vertical-align: top;\n",
       "    }\n",
       "\n",
       "    .dataframe thead th {\n",
       "        text-align: right;\n",
       "    }\n",
       "</style>\n",
       "<table border=\"1\" class=\"dataframe\">\n",
       "  <thead>\n",
       "    <tr style=\"text-align: right;\">\n",
       "      <th></th>\n",
       "      <th>model</th>\n",
       "      <th>period</th>\n",
       "      <th>r_squared</th>\n",
       "      <th>train_loss_mse</th>\n",
       "      <th>complexity</th>\n",
       "    </tr>\n",
       "  </thead>\n",
       "  <tbody>\n",
       "    <tr>\n",
       "      <th>0</th>\n",
       "      <td>lin</td>\n",
       "      <td>4</td>\n",
       "      <td>-16.506596</td>\n",
       "      <td>0.619776</td>\n",
       "      <td>0.00</td>\n",
       "    </tr>\n",
       "    <tr>\n",
       "      <th>1</th>\n",
       "      <td>en</td>\n",
       "      <td>4</td>\n",
       "      <td>0.011281</td>\n",
       "      <td>1.154922</td>\n",
       "      <td>2.00</td>\n",
       "    </tr>\n",
       "    <tr>\n",
       "      <th>2</th>\n",
       "      <td>pls</td>\n",
       "      <td>4</td>\n",
       "      <td>-10.320480</td>\n",
       "      <td>1.059508</td>\n",
       "      <td>1.00</td>\n",
       "    </tr>\n",
       "    <tr>\n",
       "      <th>3</th>\n",
       "      <td>pcr</td>\n",
       "      <td>4</td>\n",
       "      <td>-0.362283</td>\n",
       "      <td>0.766287</td>\n",
       "      <td>1.00</td>\n",
       "    </tr>\n",
       "    <tr>\n",
       "      <th>4</th>\n",
       "      <td>rf</td>\n",
       "      <td>4</td>\n",
       "      <td>-44.797024</td>\n",
       "      <td>0.076586</td>\n",
       "      <td>58.07</td>\n",
       "    </tr>\n",
       "    <tr>\n",
       "      <th>5</th>\n",
       "      <td>gbr</td>\n",
       "      <td>4</td>\n",
       "      <td>-96.411266</td>\n",
       "      <td>0.029035</td>\n",
       "      <td>19.00</td>\n",
       "    </tr>\n",
       "  </tbody>\n",
       "</table>\n",
       "</div>"
      ],
      "text/plain": [
       "  model  period  r_squared  train_loss_mse  complexity\n",
       "0   lin       4 -16.506596        0.619776        0.00\n",
       "1    en       4   0.011281        1.154922        2.00\n",
       "2   pls       4 -10.320480        1.059508        1.00\n",
       "3   pcr       4  -0.362283        0.766287        1.00\n",
       "4    rf       4 -44.797024        0.076586       58.07\n",
       "5   gbr       4 -96.411266        0.029035       19.00"
      ]
     },
     "execution_count": 55,
     "metadata": {},
     "output_type": "execute_result"
    }
   ],
   "source": [
    "%%time\n",
    "lin = LinearRegression().fit(xx, yy)\n",
    "en = ElasticNet(random_state=0).fit(xx, yy)\n",
    "pcr_r, pcr_com, mse_pcr, pls_r, pls_com, mse_pls = cv_pcr(xx, yy, xt, yt)\n",
    "print('rf started')\n",
    "rf = RandomForestRegressor(random_state=0).fit(xx, yy)\n",
    "gbr = GradientBoostingRegressor(random_state=0).fit(xx, yy)\n",
    "\n",
    "\n",
    "r_squared = [lin.score(xt, yt), en.score(xt, yt), pls_r, pcr_r, \\\n",
    "             rf.score(xt, yt), gbr.score(xt, yt)]\n",
    "mse_loss = [mse(yy, lin.predict(xx)), mse(yy, en.predict(xx)), mse_pls, mse_pcr, \\\n",
    "            mse(yy, rf.predict(xx)), mse(yy, gbr.predict(xx))]\n",
    "\n",
    "mean_depth = np.mean([estimator.tree_.max_depth for estimator in rf.estimators_])\n",
    "mean_features = np.mean([estimator.max_features_ for estimator in gbr.estimators_.reshape(-1)])\n",
    "\n",
    "complexity = [0, (en.coef_ != 0).sum(), pcr_com, pls_com, mean_depth, mean_features]\n",
    "\n",
    "test_res = pd.DataFrame({\"model\": mod_name, \"period\" : [period]*len(mod_name), \"r_squared\" : r_squared,\n",
    "                        \"train_loss_mse\": mse_loss, \"complexity\": complexity})\n",
    "test_res"
   ]
  },
  {
   "cell_type": "code",
   "execution_count": 71,
   "metadata": {},
   "outputs": [],
   "source": [
    "# test_res.to_csv('ML_pricing_res_[full train, full test].csv', index = False)"
   ]
  },
  {
   "cell_type": "markdown",
   "metadata": {},
   "source": [
    "#### 여기부터 수정하기"
   ]
  },
  {
   "cell_type": "markdown",
   "metadata": {},
   "source": [
    "# Test\n",
    "### Time Series val test"
   ]
  },
  {
   "cell_type": "code",
   "execution_count": 30,
   "metadata": {
    "scrolled": false
   },
   "outputs": [
    {
     "name": "stderr",
     "output_type": "stream",
     "text": [
      "\r",
      "  0%|          | 0/13 [00:00<?, ?it/s]"
     ]
    },
    {
     "name": "stdout",
     "output_type": "stream",
     "text": [
      "pcr finished 0\n"
     ]
    },
    {
     "name": "stderr",
     "output_type": "stream",
     "text": [
      "\r",
      "  8%|▊         | 1/13 [04:56<59:14, 296.18s/it]"
     ]
    },
    {
     "name": "stdout",
     "output_type": "stream",
     "text": [
      "pcr finished 1\n"
     ]
    },
    {
     "name": "stderr",
     "output_type": "stream",
     "text": [
      "\r",
      " 15%|█▌        | 2/13 [10:20<55:51, 304.65s/it]"
     ]
    },
    {
     "name": "stdout",
     "output_type": "stream",
     "text": [
      "pcr finished 2\n"
     ]
    },
    {
     "name": "stderr",
     "output_type": "stream",
     "text": [
      "\r",
      " 23%|██▎       | 3/13 [15:54<52:14, 313.46s/it]"
     ]
    },
    {
     "name": "stdout",
     "output_type": "stream",
     "text": [
      "pcr finished 3\n"
     ]
    },
    {
     "name": "stderr",
     "output_type": "stream",
     "text": [
      "\r",
      " 31%|███       | 4/13 [21:58<49:16, 328.50s/it]"
     ]
    },
    {
     "name": "stdout",
     "output_type": "stream",
     "text": [
      "pcr finished 4\n"
     ]
    },
    {
     "name": "stderr",
     "output_type": "stream",
     "text": [
      "\r",
      " 38%|███▊      | 5/13 [28:14<45:42, 342.77s/it]"
     ]
    },
    {
     "name": "stdout",
     "output_type": "stream",
     "text": [
      "pcr finished 5\n"
     ]
    },
    {
     "name": "stderr",
     "output_type": "stream",
     "text": [
      "\r",
      " 46%|████▌     | 6/13 [34:53<41:58, 359.76s/it]"
     ]
    },
    {
     "name": "stdout",
     "output_type": "stream",
     "text": [
      "pcr finished 6\n"
     ]
    },
    {
     "name": "stderr",
     "output_type": "stream",
     "text": [
      "\r",
      " 54%|█████▍    | 7/13 [41:43<37:28, 374.79s/it]"
     ]
    },
    {
     "name": "stdout",
     "output_type": "stream",
     "text": [
      "pcr finished 7\n"
     ]
    },
    {
     "name": "stderr",
     "output_type": "stream",
     "text": [
      "\r",
      " 62%|██████▏   | 8/13 [49:03<32:51, 394.23s/it]"
     ]
    },
    {
     "name": "stdout",
     "output_type": "stream",
     "text": [
      "pcr finished 8\n"
     ]
    },
    {
     "name": "stderr",
     "output_type": "stream",
     "text": [
      "\r",
      " 69%|██████▉   | 9/13 [56:53<27:48, 417.03s/it]"
     ]
    },
    {
     "name": "stdout",
     "output_type": "stream",
     "text": [
      "pcr finished 9\n"
     ]
    },
    {
     "name": "stderr",
     "output_type": "stream",
     "text": [
      "\r",
      " 77%|███████▋  | 10/13 [1:04:53<21:47, 435.90s/it]"
     ]
    },
    {
     "name": "stdout",
     "output_type": "stream",
     "text": [
      "pcr finished 10\n"
     ]
    },
    {
     "name": "stderr",
     "output_type": "stream",
     "text": [
      "\r",
      " 85%|████████▍ | 11/13 [1:13:02<15:03, 451.88s/it]"
     ]
    },
    {
     "name": "stdout",
     "output_type": "stream",
     "text": [
      "pcr finished 11\n"
     ]
    },
    {
     "name": "stderr",
     "output_type": "stream",
     "text": [
      " 92%|█████████▏| 12/13 [1:21:22<06:46, 406.91s/it]\n"
     ]
    },
    {
     "ename": "IndexError",
     "evalue": "list index out of range",
     "output_type": "error",
     "traceback": [
      "\u001b[0;31m\u001b[0m",
      "\u001b[0;31mIndexError\u001b[0mTraceback (most recent call last)",
      "\u001b[0;32m<ipython-input-30-a74c509b9f4f>\u001b[0m in \u001b[0;36m<module>\u001b[0;34m\u001b[0m\n\u001b[1;32m      6\u001b[0m \u001b[0;34m\u001b[0m\u001b[0m\n\u001b[1;32m      7\u001b[0m \u001b[0;32mfor\u001b[0m \u001b[0mperiod\u001b[0m \u001b[0;32min\u001b[0m \u001b[0mtqdm\u001b[0m\u001b[0;34m(\u001b[0m\u001b[0mrange\u001b[0m\u001b[0;34m(\u001b[0m\u001b[0mlen\u001b[0m\u001b[0;34m(\u001b[0m\u001b[0mpool_train\u001b[0m\u001b[0;34m)\u001b[0m\u001b[0;34m+\u001b[0m\u001b[0;36m1\u001b[0m\u001b[0;34m)\u001b[0m\u001b[0;34m)\u001b[0m\u001b[0;34m:\u001b[0m\u001b[0;34m\u001b[0m\u001b[0;34m\u001b[0m\u001b[0m\n\u001b[0;32m----> 8\u001b[0;31m     \u001b[0mex\u001b[0m\u001b[0;34m,\u001b[0m \u001b[0mev\u001b[0m\u001b[0;34m=\u001b[0m \u001b[0mpool_train\u001b[0m\u001b[0;34m[\u001b[0m\u001b[0mperiod\u001b[0m\u001b[0;34m]\u001b[0m\u001b[0;34m,\u001b[0m  \u001b[0mpool_val\u001b[0m\u001b[0;34m[\u001b[0m\u001b[0mperiod\u001b[0m\u001b[0;34m]\u001b[0m\u001b[0;34m\u001b[0m\u001b[0;34m\u001b[0m\u001b[0m\n\u001b[0m\u001b[1;32m      9\u001b[0m     \u001b[0;32mif\u001b[0m \u001b[0mperiod\u001b[0m \u001b[0;34m==\u001b[0m \u001b[0;36m12\u001b[0m\u001b[0;34m:\u001b[0m\u001b[0;34m\u001b[0m\u001b[0;34m\u001b[0m\u001b[0m\n\u001b[1;32m     10\u001b[0m         \u001b[0mex\u001b[0m\u001b[0;34m,\u001b[0m \u001b[0mev\u001b[0m\u001b[0;34m=\u001b[0m \u001b[0mpool_train\u001b[0m\u001b[0;34m[\u001b[0m\u001b[0;36m10\u001b[0m\u001b[0;34m]\u001b[0m\u001b[0;34m,\u001b[0m  \u001b[0mpool_val\u001b[0m\u001b[0;34m[\u001b[0m\u001b[0;36m11\u001b[0m\u001b[0;34m]\u001b[0m\u001b[0;34m\u001b[0m\u001b[0;34m\u001b[0m\u001b[0m\n",
      "\u001b[0;31mIndexError\u001b[0m: list index out of range"
     ]
    }
   ],
   "source": [
    "# results = pd.DataFrame(columns = ['model','period','r_squared','train_loss_mse', 'complexity'])\n",
    "# results.to_csv('ML_test_res_rolling.csv', index = False)\n",
    "# mod_name = ['lin','en','pls','pcr','rf','gbr']\n",
    "# preds = pd.DataFrame(columns = mod_name)\n",
    "# preds.to_csv('ML_test_pred.csv', index = False)\n",
    "\n",
    "for period in tqdm(range(1)) #range(len(pool_train)+1)):\n",
    "#     ex, ev= pool_train[period],  pool_val[period]\n",
    "\n",
    "    ex, ev= pool_train[10],  pool_val[11]\n",
    "    \n",
    "    exx, exy = xy(ex)\n",
    "    evx, evy = xy(ev)\n",
    "    \n",
    "\n",
    "    lin = LinearRegression().fit(exx, exy)\n",
    "    en = ElasticNet(random_state=0).fit(exx, exy)\n",
    "    pcr_r, pcr_com, mse_pcr, pls_r, pls_com, mse_pls, pred_pcr, pred_pls = cv_pcr(exx, exy, evx, evy)\n",
    "    print(f'pcr finished {period}')\n",
    "    rf = RandomForestRegressor(random_state=12).fit(exx, exy)\n",
    "    gbr = GradientBoostingRegressor(random_state=12).fit(exx, exy)\n",
    "\n",
    "    r_squared = [lin.score(evx, evy), en.score(evx, evy), pls_r, pcr_r, \\\n",
    "                 rf.score(evx, evy), gbr.score(evx, evy)]\n",
    "\n",
    "    mse_loss = [mse(exy, lin.predict(exx)), mse(exy, en.predict(exx)), mse_pls, mse_pcr, \\\n",
    "                mse(exy, rf.predict(exx)), mse(exy, gbr.predict(exx))]\n",
    "\n",
    "    predicted = [lin.predict(evx), en.predict(evx), pred_pls, pred_pcr, rf.predict(evx), gbr.predict(evx)]\n",
    "\n",
    "    mean_depth = np.mean([estimator.tree_.max_depth for estimator in rf.estimators_])\n",
    "    mean_features = np.mean([estimator.max_features_ for estimator in gbr.estimators_.reshape(-1)])\n",
    "\n",
    "    complexity = [0, (en.coef_ != 0).sum(), pcr_com, pls_com, mean_depth, mean_features]\n",
    "\n",
    "    res_temp = pd.DataFrame({\"model\": mod_name, \"period\" : [period]*len(mod_name), \"r_squared\" : r_squared,\n",
    "                            \"train_loss_mse\": mse_loss, \"complexity\": complexity})\n",
    "    pred_temp = pd.DataFrame({\"lin\":predicted[0], \"en\":predicted[1], \"pls\":predicted[2].reshape(-1), \n",
    "                              \"pcr\":predicted[3], \"rf\":predicted[4], \"gbr\":predicted[5]})\n",
    "    \n",
    "#     res_temp.to_csv('ML_test_res_rolling_for2021.csv', index = False, header = False, mode ='a')\n",
    "#     pred_temp.to_csv('ML_test_pred_for2021.csv', index = False, header = False, mode ='a')"
   ]
  },
  {
   "cell_type": "code",
   "execution_count": null,
   "metadata": {},
   "outputs": [
    {
     "name": "stderr",
     "output_type": "stream",
     "text": [
      "\r",
      "  0%|          | 0/1 [00:00<?, ?it/s]"
     ]
    },
    {
     "name": "stdout",
     "output_type": "stream",
     "text": [
      "pcr finished 0\n"
     ]
    }
   ],
   "source": [
    "# results = pd.DataFrame(columns = ['model','period','r_squared','train_loss_mse', 'complexity'])\n",
    "# results.to_csv('ML_test_res_rolling.csv', index = False)\n",
    "# mod_name = ['lin','en','pls','pcr','rf','gbr']\n",
    "# preds = pd.DataFrame(columns = mod_name)\n",
    "# preds.to_csv('ML_test_pred.csv', index = False)\n",
    "\n",
    "for period in tqdm(range(1)): #range(len(pool_train)+1)):\n",
    "#     ex, ev= pool_train[period],  pool_val[period]\n",
    "\n",
    "    ex, ev= pool_train[10],  pool_val[11]\n",
    "    \n",
    "    exx, exy = xy(ex)\n",
    "    evx, evy = xy(ev)\n",
    "    \n",
    "\n",
    "    lin = LinearRegression().fit(exx, exy)\n",
    "    en = ElasticNet(random_state=0).fit(exx, exy)\n",
    "    pcr_r, pcr_com, mse_pcr, pls_r, pls_com, mse_pls, pred_pcr, pred_pls = cv_pcr(exx, exy, evx, evy)\n",
    "    print(f'pcr finished {period}')\n",
    "    rf = RandomForestRegressor(random_state=12).fit(exx, exy)\n",
    "    gbr = GradientBoostingRegressor(random_state=12).fit(exx, exy)\n",
    "\n",
    "    r_squared = [lin.score(evx, evy), en.score(evx, evy), pls_r, pcr_r, \\\n",
    "                 rf.score(evx, evy), gbr.score(evx, evy)]\n",
    "\n",
    "    mse_loss = [mse(exy, lin.predict(exx)), mse(exy, en.predict(exx)), mse_pls, mse_pcr, \\\n",
    "                mse(exy, rf.predict(exx)), mse(exy, gbr.predict(exx))]\n",
    "\n",
    "    predicted = [lin.predict(evx), en.predict(evx), pred_pls, pred_pcr, rf.predict(evx), gbr.predict(evx)]\n",
    "\n",
    "    mean_depth = np.mean([estimator.tree_.max_depth for estimator in rf.estimators_])\n",
    "    mean_features = np.mean([estimator.max_features_ for estimator in gbr.estimators_.reshape(-1)])\n",
    "\n",
    "    complexity = [0, (en.coef_ != 0).sum(), pcr_com, pls_com, mean_depth, mean_features]\n",
    "\n",
    "    res_temp = pd.DataFrame({\"model\": mod_name, \"period\" : [period]*len(mod_name), \"r_squared\" : r_squared,\n",
    "                            \"train_loss_mse\": mse_loss, \"complexity\": complexity})\n",
    "    pred_temp = pd.DataFrame({\"lin\":predicted[0], \"en\":predicted[1], \"pls\":predicted[2].reshape(-1), \n",
    "                              \"pcr\":predicted[3], \"rf\":predicted[4], \"gbr\":predicted[5]})\n",
    "    \n",
    "    res_temp.to_csv('ML_test_res_rolling_for2021.csv', index = False)\n",
    "    pred_temp.to_csv('ML_test_pred_for2021.csv', index = False)\n",
    "    "
   ]
  },
  {
   "cell_type": "code",
   "execution_count": null,
   "metadata": {},
   "outputs": [],
   "source": []
  }
 ],
 "metadata": {
  "kernelspec": {
   "display_name": "Python 3",
   "language": "python",
   "name": "python3"
  },
  "language_info": {
   "codemirror_mode": {
    "name": "ipython",
    "version": 3
   },
   "file_extension": ".py",
   "mimetype": "text/x-python",
   "name": "python",
   "nbconvert_exporter": "python",
   "pygments_lexer": "ipython3",
   "version": "3.6.9"
  }
 },
 "nbformat": 4,
 "nbformat_minor": 4
}
